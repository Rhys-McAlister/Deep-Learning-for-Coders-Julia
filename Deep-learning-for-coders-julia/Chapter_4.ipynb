{
  "cells": [
    {
      "cell_type": "markdown",
      "metadata": {},
      "source": [
        "# Under the Hood: Training a Digit Classifier\n",
        "\n",
        "This chapter utilises the topic of computer vision as a vehicle for introducing a number of fundamental tools and concepts for deep learning.\n",
        "\n",
        "These tools and concepts include:\n",
        "\n",
        "-   Roles of arrays and tensors and how broadcasting can be used to operate on these structures.\n",
        "-   Stochastic gradient descent and how it can be used to train a model.\n",
        "-   Choosing appropriate loss functions for a basic classification task.\n",
        "-   The role of mini-batches in training a model.\n",
        "-   The math that a basic neural network is utilising.\n",
        "\n",
        "## Pixels: The Foundations of Computer Vision\n",
        "\n",
        "In an effort to understand the internals of computer vision models, we first begin by discussing how computers handle images. The dataset used to illustrate this concept will be [MNIST](https://en.wikipedia.org/wiki/MNIST_database \"MNIST dataset\").\n",
        "\n",
        "In the original book, the FastAI vision library will download the MNIST dataset to your computer and place the images into separate folders depending upon the identity of the image and its position in the train or validation sets. For simplicity here we use the `MLDatasets` package instead.\n",
        "\n",
        "Below we can see a visualisation of two examples of the images found within these datasets. The images are either a handwritten three or a seven. \n"
      ],
      "id": "b6db38f3"
    },
    {
      "cell_type": "code",
      "metadata": {},
      "source": [
        "using MLDatasets\n",
        "using Images\n",
        "using Plots\n",
        "\n",
        "dataset = MLDatasets.MNIST(:train)\n",
        "valid = MLDatasets.MNIST(:test)\n",
        "\n",
        "three_features = (dataset.features[:,:,dataset.targets .== 3]) / 255\n",
        "seven_features = (dataset.features[:,:,dataset.targets .== 7]) / 255\n",
        "valid_three_features = (valid.features[:,:,valid.targets .== 3]) / 255\n",
        "valid_seven_features = (valid.features[:,:,valid.targets .== 7]) / 255\n",
        "\n",
        "Plots.heatmap(three_features[:,:,1])"
      ],
      "id": "d346f271",
      "execution_count": null,
      "outputs": []
    },
    {
      "cell_type": "code",
      "metadata": {},
      "source": [
        "Plots.heatmap(seven_features[:,:,9])"
      ],
      "id": "82bceeb1",
      "execution_count": null,
      "outputs": []
    },
    {
      "cell_type": "markdown",
      "metadata": {},
      "source": [
        "In a computer everything is represented using numbers and images are no exception. Here we see a small section of the image of a three. Each of the numbers within this array is representative of a pixel within the image. \n"
      ],
      "id": "eee77371"
    },
    {
      "cell_type": "code",
      "metadata": {},
      "source": [
        "three_features[4:10,4:10,1]"
      ],
      "id": "f1c4ef61",
      "execution_count": null,
      "outputs": []
    },
    {
      "cell_type": "markdown",
      "metadata": {},
      "source": [
        "## First try: Pixel Similarity"
      ],
      "id": "13aa02cf"
    }
  ],
  "metadata": {
    "kernelspec": {
      "name": "julia-1.9",
      "language": "julia",
      "display_name": "Julia 1.9.0-rc1"
    }
  },
  "nbformat": 4,
  "nbformat_minor": 5
}